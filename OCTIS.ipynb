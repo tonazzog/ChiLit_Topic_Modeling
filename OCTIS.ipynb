{
 "cells": [
  {
   "cell_type": "code",
   "execution_count": null,
   "id": "bbde3299-672a-4cd5-99fa-d01a99b32270",
   "metadata": {},
   "outputs": [],
   "source": [
    "import octis\n",
    "from octis.models.LDA import LDA\n",
    "from octis.models.ProdLDA import ProdLDA\n",
    "from octis.models.ETM import ETM\n",
    "from octis.dataset.dataset import Dataset\n",
    "from octis.evaluation_metrics.diversity_metrics import TopicDiversity\n",
    "from octis.evaluation_metrics.coherence_metrics import Coherence\n",
    "from octis.dataset.dataset import Dataset\n",
    "import pandas as pd\n",
    "import json\n",
    "import os"
   ]
  },
  {
   "cell_type": "code",
   "execution_count": null,
   "id": "6cdb5d3a-ee2a-436d-b8a7-04bd392bdeb6",
   "metadata": {},
   "outputs": [],
   "source": [
    "def prepare_octis_corpus(output_folder, docs):\n",
    "  # Write to docs.tsv\n",
    "  with open(os.path.join(output_folder, \"corpus.tsv\"), \"w\", encoding=\"utf-8\") as f:\n",
    "      for doc in docs:\n",
    "          f.write(f\"{doc}\\n\")\n",
    "  # Tokenize and create vocabulary\n",
    "  vocab = set()\n",
    "  for doc in docs:\n",
    "      vocab.update(doc.split())\n",
    "\n",
    "  vocab = {w for w in vocab if w.isalpha() and len(w) > 2}\n",
    "  vocab = sorted(vocab)  # sorting is optional but nice for consistency\n",
    "\n",
    "  # Save vocab.json\n",
    "  with open(os.path.join(output_folder, \"vocab.json\"), \"w\", encoding=\"utf-8\") as f:\n",
    "      json.dump(vocab, f)"
   ]
  },
  {
   "cell_type": "code",
   "execution_count": null,
   "id": "932b791b-c085-413e-9ab6-eec6f36ee8bb",
   "metadata": {},
   "outputs": [],
   "source": [
    "def evaluate_metrics(output, topk=10, measure='c_npmi'):\n",
    "    \n",
    "    diverisity_metric = TopicDiversity(topk=topk) # Initialize metric\n",
    "    diversity_score = diverisity_metric.score(output) # Compute score of the metric\n",
    "\n",
    "    coherence_metrics = Coherence(texts=dataset.get_corpus(), #list of our documents\n",
    "                        measure=measure)\n",
    "    coherence_score = coherence_metrics.score(output) # Compute score of the metric\n",
    "    \n",
    "    return {'coherence_score' : coherence_score, 'diversity_score' : diversity_score}"
   ]
  },
  {
   "cell_type": "code",
   "execution_count": null,
   "id": "10a7c3cd-3ad8-45fc-a9f0-a6c968963703",
   "metadata": {},
   "outputs": [],
   "source": [
    "df_chilit = pd.read_csv(\"./data/ChiLit_Paragraphs.csv\")\n",
    "df_chilit = df_chilit.fillna(\"\")\n",
    "df_chilit = df_chilit[df_chilit['tokens'] != '']"
   ]
  },
  {
   "cell_type": "code",
   "execution_count": null,
   "id": "1d82df91-f3d8-4c26-a2af-a0e824e6acf7",
   "metadata": {},
   "outputs": [],
   "source": [
    "df_chilit.head()"
   ]
  },
  {
   "cell_type": "code",
   "execution_count": null,
   "id": "5e381db2-c397-4871-953a-9a7ac0cdb78b",
   "metadata": {},
   "outputs": [],
   "source": [
    "octis_folder = \"./octis/\""
   ]
  },
  {
   "cell_type": "markdown",
   "id": "28f36b5d-4bee-4909-b630-bc3ebb8f9bcf",
   "metadata": {},
   "source": [
    "### Create OCTIS dataset"
   ]
  },
  {
   "cell_type": "code",
   "execution_count": null,
   "id": "fb8088ce-6471-4460-923c-384902175954",
   "metadata": {},
   "outputs": [],
   "source": [
    "\n",
    "docs = []\n",
    "for _, row in df_chilit.iterrows():\n",
    "  docs.append(row[\"tokens\"])\n",
    "\n",
    "prepare_octis_corpus(octis_folder, docs)"
   ]
  },
  {
   "cell_type": "code",
   "execution_count": null,
   "id": "86ce3914-c7a9-48c5-bf40-2d11e96ea6bd",
   "metadata": {},
   "outputs": [],
   "source": [
    "dataset = Dataset()\n",
    "dataset.load_custom_dataset_from_folder(octis_folder)"
   ]
  },
  {
   "cell_type": "markdown",
   "id": "7d7cc723-74b1-465d-a14a-5cb4171e742a",
   "metadata": {},
   "source": [
    "### Test models with default setting"
   ]
  },
  {
   "cell_type": "markdown",
   "id": "869f2d58-8599-4eb3-b436-1d574a33e218",
   "metadata": {},
   "source": [
    "#### LDA"
   ]
  },
  {
   "cell_type": "code",
   "execution_count": null,
   "id": "c5373b15-e675-486e-9af1-00873d9c1e74",
   "metadata": {},
   "outputs": [],
   "source": [
    "model = LDA(num_topics=20, passes=10)\n",
    "output = model.train_model(dataset)"
   ]
  },
  {
   "cell_type": "code",
   "execution_count": null,
   "id": "c08adfe5-8ee2-445c-8ede-662f9e7ec499",
   "metadata": {},
   "outputs": [],
   "source": [
    "for t in output['topics']:\n",
    "  print(\" \".join(t))"
   ]
  },
  {
   "cell_type": "code",
   "execution_count": null,
   "id": "8cea4587-ccc1-4a2d-b114-7da0c7e3ee0d",
   "metadata": {},
   "outputs": [],
   "source": [
    "scores = evaluate_metrics(output)\n",
    "print(scores)"
   ]
  },
  {
   "cell_type": "code",
   "execution_count": null,
   "id": "d8c68f2c-2556-445f-a40c-62651b6ac4dc",
   "metadata": {},
   "outputs": [],
   "source": []
  },
  {
   "cell_type": "code",
   "execution_count": null,
   "id": "fe488660-19eb-4584-84de-68f73cb4de03",
   "metadata": {},
   "outputs": [],
   "source": []
  },
  {
   "cell_type": "markdown",
   "id": "c7228b5e-7320-48a5-ad70-dbd9732bdfe1",
   "metadata": {},
   "source": [
    "#### ProdLDA"
   ]
  },
  {
   "cell_type": "code",
   "execution_count": null,
   "id": "84e9896b-c733-4e1b-a005-6ba75da7b35a",
   "metadata": {},
   "outputs": [],
   "source": [
    "model = ProdLDA(num_topics=20, use_partitions=False)\n",
    "output = model.train_model(dataset)"
   ]
  },
  {
   "cell_type": "code",
   "execution_count": null,
   "id": "2030e39a-b2db-44ee-bd61-fc4684626ab2",
   "metadata": {},
   "outputs": [],
   "source": [
    "for t in output['topics']:\n",
    "  print(\" \".join(t))"
   ]
  },
  {
   "cell_type": "code",
   "execution_count": null,
   "id": "b3ecbf50-1f03-4651-88d9-051ff8c766a8",
   "metadata": {},
   "outputs": [],
   "source": [
    "scores = evaluate_metrics(output)\n",
    "print(scores)"
   ]
  },
  {
   "cell_type": "code",
   "execution_count": null,
   "id": "fa7f7ad2-8cca-48d5-a544-c7d29dbffbbb",
   "metadata": {},
   "outputs": [],
   "source": []
  },
  {
   "cell_type": "markdown",
   "id": "cf36321d-1953-4b18-87dc-0d03e49757ee",
   "metadata": {},
   "source": [
    "### ETM"
   ]
  },
  {
   "cell_type": "code",
   "execution_count": null,
   "id": "ab9448e5-36cc-4a42-bdf0-c3d2260f4c89",
   "metadata": {},
   "outputs": [],
   "source": [
    "model = ETM(num_topics=15, use_partitions=False, device = 'gpu', embeddings_path='./data/chilit-19th-century-averaged-embeddings.txt')\n",
    "output = model.train_model(dataset)"
   ]
  },
  {
   "cell_type": "code",
   "execution_count": null,
   "id": "81cfa2ec-a397-4286-b035-daea8b7f1bda",
   "metadata": {},
   "outputs": [],
   "source": [
    "for t in output['topics']:\n",
    "  print(\" \".join(t))"
   ]
  },
  {
   "cell_type": "code",
   "execution_count": null,
   "id": "e8d9cdac-7f7f-47fe-96d2-7fda74d16bbf",
   "metadata": {},
   "outputs": [],
   "source": [
    "scores = evaluate_metrics(output)\n",
    "print(scores)"
   ]
  }
 ],
 "metadata": {
  "kernelspec": {
   "display_name": "Python 3 (ipykernel)",
   "language": "python",
   "name": "python3"
  },
  "language_info": {
   "codemirror_mode": {
    "name": "ipython",
    "version": 3
   },
   "file_extension": ".py",
   "mimetype": "text/x-python",
   "name": "python",
   "nbconvert_exporter": "python",
   "pygments_lexer": "ipython3",
   "version": "3.12.3"
  }
 },
 "nbformat": 4,
 "nbformat_minor": 5
}
