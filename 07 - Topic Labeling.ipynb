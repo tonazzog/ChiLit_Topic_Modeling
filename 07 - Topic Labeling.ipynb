{
 "cells": [
  {
   "cell_type": "code",
   "execution_count": 88,
   "id": "2ec42ed7-d0e9-4994-ab9c-28703bf52e33",
   "metadata": {
    "colab": {
     "base_uri": "https://localhost:8080/"
    },
    "executionInfo": {
     "elapsed": 984,
     "status": "ok",
     "timestamp": 1755698316172,
     "user": {
      "displayName": "NLP Student",
      "userId": "16153972373005500160"
     },
     "user_tz": -120
    },
    "id": "2ec42ed7-d0e9-4994-ab9c-28703bf52e33",
    "outputId": "63ef529d-deb4-45b6-9ef9-0cc97371ec04"
   },
   "outputs": [
    {
     "name": "stdout",
     "output_type": "stream",
     "text": [
      "Drive already mounted at /content/drive; to attempt to forcibly remount, call drive.mount(\"/content/drive\", force_remount=True).\n",
      "/content/drive/MyDrive/ChiLit_Topic_Modeling\n"
     ]
    }
   ],
   "source": [
    "from google.colab import drive\n",
    "drive.mount('/content/drive')\n",
    "%cd /content/drive/MyDrive/ChiLit_Topic_Modeling"
   ]
  },
  {
   "cell_type": "code",
   "execution_count": null,
   "id": "e3358e47-6a4a-4ac4-9fc1-260a008ade41",
   "metadata": {
    "id": "e3358e47-6a4a-4ac4-9fc1-260a008ade41"
   },
   "outputs": [],
   "source": [
    "!pip install git+https://github.com/tonazzog/OCTIS.git"
   ]
  },
  {
   "cell_type": "code",
   "execution_count": null,
   "id": "8c31ed1b-e8c6-48c9-84fa-e114d6670d8e",
   "metadata": {
    "id": "8c31ed1b-e8c6-48c9-84fa-e114d6670d8e"
   },
   "outputs": [],
   "source": [
    "!pip install bertopic\n",
    "!pip install dotenv"
   ]
  },
  {
   "cell_type": "code",
   "execution_count": 54,
   "id": "a67444d4-c150-4816-a1e3-4caf4ad27578",
   "metadata": {
    "id": "a67444d4-c150-4816-a1e3-4caf4ad27578"
   },
   "outputs": [],
   "source": [
    "from langchain_openai import ChatOpenAI\n",
    "from langchain.output_parsers import PydanticOutputParser\n",
    "from langchain_core.prompts import PromptTemplate\n",
    "from pydantic import BaseModel, Field\n",
    "import pandas as pd\n",
    "import pickle\n",
    "from openai import OpenAI\n",
    "import textwrap\n",
    "import os\n",
    "from dotenv import load_dotenv\n",
    "from bertopic import BERTopic\n",
    "import json"
   ]
  },
  {
   "cell_type": "code",
   "execution_count": 240,
   "id": "e8dbcf92-7f35-4063-ad00-38cdfe5bee95",
   "metadata": {
    "executionInfo": {
     "elapsed": 30,
     "status": "ok",
     "timestamp": 1755705292056,
     "user": {
      "displayName": "NLP Student",
      "userId": "16153972373005500160"
     },
     "user_tz": -120
    },
    "id": "e8dbcf92-7f35-4063-ad00-38cdfe5bee95"
   },
   "outputs": [],
   "source": [
    "if not load_dotenv():\n",
    "    os.environ['OPENAI_API_KEY'] = input(\"OpenAI API key: \")"
   ]
  },
  {
   "cell_type": "code",
   "execution_count": 4,
   "id": "2b108093-5a8b-4ed3-807e-19e7d9248902",
   "metadata": {
    "executionInfo": {
     "elapsed": 3,
     "status": "ok",
     "timestamp": 1755692121506,
     "user": {
      "displayName": "NLP Student",
      "userId": "16153972373005500160"
     },
     "user_tz": -120
    },
    "id": "2b108093-5a8b-4ed3-807e-19e7d9248902"
   },
   "outputs": [],
   "source": [
    "optuna_folder = \"./optuna_200/\""
   ]
  },
  {
   "cell_type": "code",
   "execution_count": 89,
   "id": "273b29e2-ff59-4fd8-bdf4-10028022b651",
   "metadata": {
    "executionInfo": {
     "elapsed": 2385,
     "status": "ok",
     "timestamp": 1755698325518,
     "user": {
      "displayName": "NLP Student",
      "userId": "16153972373005500160"
     },
     "user_tz": -120
    },
    "id": "273b29e2-ff59-4fd8-bdf4-10028022b651"
   },
   "outputs": [],
   "source": [
    "df_chilit = pd.read_csv(\"./data/ChiLit_Chunks_200.csv\")\n",
    "df_chilit = df_chilit.fillna(\"\")\n",
    "sentences = df_chilit['tokens'].to_list()"
   ]
  },
  {
   "cell_type": "code",
   "execution_count": 95,
   "id": "8119d7a2-42a6-4efc-952f-f24501df8ba5",
   "metadata": {},
   "outputs": [],
   "source": [
    "model = ChatOpenAI(\n",
    "    model=\"gpt-4o-mini\",\n",
    "    temperature=0.1,\n",
    "    api_key=os.getenv('OPENAI_API_KEY')\n",
    ")"
   ]
  },
  {
   "cell_type": "code",
   "execution_count": null,
   "id": "416aa705-6569-4f71-920c-460bb1eb341c",
   "metadata": {},
   "outputs": [],
   "source": []
  },
  {
   "cell_type": "code",
   "execution_count": 96,
   "id": "3f5688f8-3e24-462b-b4fe-541c9c44febf",
   "metadata": {},
   "outputs": [],
   "source": [
    "class Topic(BaseModel):\n",
    "    primary_label : str\n",
    "    explanation : str\n",
    "    alternative_labels : str"
   ]
  },
  {
   "cell_type": "code",
   "execution_count": 97,
   "id": "11e650a8-59cf-4f85-bf04-1f933eb3bab8",
   "metadata": {},
   "outputs": [],
   "source": [
    "base_prompt = \"\"\"I have a topic from a topic model that I need to label. Below are the most important words associated with this topic and the 5 most representative documents.\n",
    "    \n",
    "    Topic Words (in order of importance):\n",
    "    {words_str}\n",
    "    \n",
    "    Representative Documents:\n",
    "    {docs_str}\n",
    "    \n",
    "    Based on this information, please provide:\n",
    "    1. A concise, descriptive label for this topic (2-3 words)\n",
    "    2. A brief explanation of what this topic represents\n",
    "    3. Alternative label suggestions (2-3 options)\n",
    "    \n",
    "    Please focus on capturing the main theme that connects both the words and the document content.\n",
    "    \n",
    "    Response format:\n",
    "    Primary Label: [Your main label]\n",
    "    Explanation: [Brief explanation]\n",
    "    Alternative Labels: [Alternative 1, Alternative 2, Alternative 3\"\"\""
   ]
  },
  {
   "cell_type": "code",
   "execution_count": null,
   "id": "36af8827-42a3-4813-8bca-f2a2a10db270",
   "metadata": {},
   "outputs": [],
   "source": []
  },
  {
   "cell_type": "code",
   "execution_count": 98,
   "id": "9a9020db-164c-496e-a83e-fa544ce848b0",
   "metadata": {},
   "outputs": [],
   "source": [
    "def get_prompt(base_prompt, parser):\n",
    "\n",
    "    template = base_prompt + \"\\n\" + \"{format_instructions}'\"\n",
    "\n",
    "    prompt = PromptTemplate(\n",
    "        template = template,\n",
    "        input_variables = [\"words_str\", \"docs_str\"],\n",
    "        partial_variables = {\"format_instructions\": parser.get_format_instructions()}\n",
    "    )\n",
    "\n",
    "    return prompt"
   ]
  },
  {
   "cell_type": "code",
   "execution_count": 99,
   "id": "08d3f236-163f-4271-9666-36af41e70a07",
   "metadata": {},
   "outputs": [],
   "source": [
    "parser = PydanticOutputParser(pydantic_object = Topic)\n",
    "prompt = get_prompt(base_prompt, parser)\n",
    "chain = prompt | model | parser"
   ]
  },
  {
   "cell_type": "code",
   "execution_count": null,
   "id": "e7ff9ac0-d379-4c1f-96ba-575917c6a69e",
   "metadata": {},
   "outputs": [],
   "source": [
    "def label_topics(topic_words, top_docs):\n",
    "    labels = {}\n",
    "    for topic_id in topic_words.keys():\n",
    "        words_str = topic_words[topic_id]\n",
    "        docs_str = \"\\n\\n\".join([textwrap.shorten(doc, width=3000, placeholder=\"...\") for doc in top_docs[topic_id]])\n",
    "        result = chain.invoke({\"words_str\": words_str, \"docs_str\" : docs_str})\n",
    "        labels[topic_id] = result.model_dump()\n",
    "\n",
    "    reuturn labels"
   ]
  },
  {
   "cell_type": "code",
   "execution_count": null,
   "id": "OfsBMLJbLLZs",
   "metadata": {
    "id": "OfsBMLJbLLZs"
   },
   "outputs": [],
   "source": []
  },
  {
   "cell_type": "markdown",
   "id": "rmcYfMrHLMNN",
   "metadata": {
    "id": "rmcYfMrHLMNN"
   },
   "source": [
    "### ProdLDA topic labels"
   ]
  },
  {
   "cell_type": "code",
   "execution_count": 119,
   "id": "iBU56zdTLKY-",
   "metadata": {
    "executionInfo": {
     "elapsed": 23,
     "status": "ok",
     "timestamp": 1755705267217,
     "user": {
      "displayName": "NLP Student",
      "userId": "16153972373005500160"
     },
     "user_tz": -120
    },
    "id": "iBU56zdTLKY-"
   },
   "outputs": [],
   "source": [
    "final_model = pickle.load(open(optuna_folder + \"Optuna_ProdLDA_output.pkl\", \"rb\"))"
   ]
  },
  {
   "cell_type": "code",
   "execution_count": 33,
   "id": "6f7ddcbd-0da5-4b50-a285-5e7f3caf9bd0",
   "metadata": {
    "executionInfo": {
     "elapsed": 51,
     "status": "ok",
     "timestamp": 1755705268689,
     "user": {
      "displayName": "NLP Student",
      "userId": "16153972373005500160"
     },
     "user_tz": -120
    },
    "id": "6f7ddcbd-0da5-4b50-a285-5e7f3caf9bd0"
   },
   "outputs": [],
   "source": [
    "n_topics = len(final_model['topics'])\n",
    "df_topics = pd.DataFrame(final_model['topic-document-matrix'].T, columns=[f\"Topic {i}\" for i in range(n_topics)])\n",
    "df_topics['book_id'] = df_chilit['book_id'].to_list()\n",
    "df_topics['paragraph_text'] = df_chilit['paragraph_text'].to_list()\n",
    "df_topics['tokens'] = df_chilit['tokens'].to_list()"
   ]
  },
  {
   "cell_type": "code",
   "execution_count": null,
   "id": "ty9jnMiCxfiO",
   "metadata": {
    "colab": {
     "base_uri": "https://localhost:8080/",
     "height": 759
    },
    "executionInfo": {
     "elapsed": 67,
     "status": "ok",
     "timestamp": 1755705269878,
     "user": {
      "displayName": "NLP Student",
      "userId": "16153972373005500160"
     },
     "user_tz": -120
    },
    "id": "ty9jnMiCxfiO",
    "outputId": "424d67da-3da5-44a0-f404-4853f01d8c20"
   },
   "outputs": [],
   "source": []
  },
  {
   "cell_type": "code",
   "execution_count": 36,
   "id": "096688d1-c81c-4f88-b9a9-124db1883da9",
   "metadata": {
    "executionInfo": {
     "elapsed": 72,
     "status": "ok",
     "timestamp": 1755705328588,
     "user": {
      "displayName": "NLP Student",
      "userId": "16153972373005500160"
     },
     "user_tz": -120
    },
    "id": "096688d1-c81c-4f88-b9a9-124db1883da9"
   },
   "outputs": [],
   "source": [
    "topic_words = {}\n",
    "top_docs = {}\n",
    "\n",
    "for index, topic in enumerate(final_model['topics']):\n",
    "    topic_words[index] = topic\n",
    "    top_docs[index] = []\n",
    "    for _, row in df_topics.nlargest(5, f'Topic {index}').iterrows():\n",
    "        top_docs[index].append(row['paragraph_text'])"
   ]
  },
  {
   "cell_type": "code",
   "execution_count": null,
   "id": "003ba8c5-e025-4c74-b32b-887cf0269b46",
   "metadata": {},
   "outputs": [],
   "source": []
  },
  {
   "cell_type": "code",
   "execution_count": 246,
   "id": "76aec670-0505-427c-8751-e103b9c33479",
   "metadata": {
    "executionInfo": {
     "elapsed": 36770,
     "status": "ok",
     "timestamp": 1755705370490,
     "user": {
      "displayName": "NLP Student",
      "userId": "16153972373005500160"
     },
     "user_tz": -120
    },
    "id": "76aec670-0505-427c-8751-e103b9c33479"
   },
   "outputs": [],
   "source": [
    "ProdLDA_labels = label_topics(topic_words, top_docs)"
   ]
  },
  {
   "cell_type": "code",
   "execution_count": 46,
   "id": "f994af57-ee27-4222-8d22-34f3b707aa99",
   "metadata": {
    "colab": {
     "base_uri": "https://localhost:8080/"
    },
    "executionInfo": {
     "elapsed": 53,
     "status": "ok",
     "timestamp": 1755705412046,
     "user": {
      "displayName": "NLP Student",
      "userId": "16153972373005500160"
     },
     "user_tz": -120
    },
    "id": "f994af57-ee27-4222-8d22-34f3b707aa99",
    "outputId": "1e8ff44c-9670-4ca2-aa16-186cfdf54ea5"
   },
   "outputs": [],
   "source": [
    "with open(optuna_folder + \"/ProdLDA_Topic_Labels.json\", 'w') as outfile:\n",
    "  json.dump(ProdLDA_labels, outfile, indent = 4)"
   ]
  },
  {
   "cell_type": "code",
   "execution_count": 105,
   "id": "c4dfb2a3-a86d-4861-932d-100858b18bc7",
   "metadata": {
    "executionInfo": {
     "elapsed": 4,
     "status": "ok",
     "timestamp": 1755705886550,
     "user": {
      "displayName": "NLP Student",
      "userId": "16153972373005500160"
     },
     "user_tz": -120
    },
    "id": "c4dfb2a3-a86d-4861-932d-100858b18bc7"
   },
   "outputs": [],
   "source": [
    "# Display labels\n",
    "with open(optuna_folder + \"/ProdLDA_Topic_Labels.json\", 'r') as file:\n",
    "  ProdLDA_labels = json.load(file)"
   ]
  },
  {
   "cell_type": "code",
   "execution_count": 115,
   "id": "Mk7kVhrmLV5r",
   "metadata": {
    "id": "Mk7kVhrmLV5r"
   },
   "outputs": [
    {
     "name": "stdout",
     "output_type": "stream",
     "text": [
      "\n",
      "---------------------------------\n",
      "Topic 0 - words: ['force', 'enemy', 'attack', 'troops', 'order', 'french', 'march', 'advance', 'army', 'number']\n",
      "Label: Military Engagements \n",
      "Explanation: This topic represents the strategic and tactical aspects of military confrontations, focusing on troop movements, attacks, and the dynamics between opposing forces, particularly in historical contexts involving French and English armies.\n",
      "\n",
      "---------------------------------\n",
      "Topic 1 - words: ['face', 'arm', 'voice', 'heart', 'tear', 'eye', 'hand', 'lay', 'speak', 'bed']\n",
      "Label: Loss and Grief \n",
      "Explanation: This topic represents the emotional experiences of loss, mourning, and the deep connections between family members, particularly in the context of children and their parents. The documents reflect themes of sorrow, the fragility of life, and the longing for connection amidst tragedy.\n",
      "\n",
      "---------------------------------\n",
      "Topic 2 - words: ['dragon', 'red', 'buy', 'engine', 'let', 'gold', 'birthday', 'tea', 'handkerchief', 'bun']\n",
      "Label: Dragon Adventures \n",
      "Explanation: This topic revolves around whimsical stories featuring dragons, their interactions with children, and elements of fantasy such as magical items and playful adventures. The documents highlight themes of friendship, imagination, and the fantastical elements associated with dragons, including their characteristics and the children's responses to them.\n",
      "\n",
      "---------------------------------\n",
      "Topic 3 - words: ['sir', 'money', 'pay', 'matter', 'name', 'explain', 'rod', 'bottle', 'paper', 'shilling']\n",
      "Label: Financial Deception \n",
      "Explanation: This topic revolves around themes of financial obligation, dishonesty, and the moral dilemmas faced by characters in situations involving money, promises, and the consequences of deceitful actions.\n",
      "\n",
      "---------------------------------\n",
      "Topic 4 - words: ['boy', 'study', 'fellow', 'fifth', 'form', 'school', 'sixth', 'class', 'half', 'match']\n",
      "Label: School Rivalry \n",
      "Explanation: This topic represents the competitive dynamics and interactions among different school forms, particularly focusing on the rivalry between the Fifth and Sixth Forms, as well as the experiences and perspectives of the boys involved in these competitions.\n",
      "\n",
      "---------------------------------\n",
      "Topic 5 - words: ['captain', 'man', 'blood', 'deck', 'shout', 'strike', 'hand', 'spear', 'dead', 'roll']\n",
      "Label: Pirate Battles \n",
      "Explanation: This topic represents the themes of conflict and violence among pirates, highlighting elements such as leadership, death, and combat on the high seas, as depicted in the associated documents.\n",
      "\n",
      "---------------------------------\n",
      "Topic 6 - words: ['pleasure', 'own', 'home', 'delight', 'visit', 'affection', 'happiness', 'church', 'spend', 'pupil']\n",
      "Label: Home Affection \n",
      "Explanation: This topic represents the themes of personal relationships, emotional connections, and the sense of belonging associated with home and family. The documents reflect characters' feelings of happiness, affection, and the importance of home life, often intertwined with social and familial duties.\n",
      "\n",
      "---------------------------------\n",
      "Topic 7 - words: ['snow', 'mulgar', 'nod', 'traveller', 'jacket', 'hut', 'shadow', 'creep', 'sing', 'smell']\n",
      "Label: Winter Journey \n",
      "Explanation: This topic represents the themes of travel and adventure in a cold, snowy environment, highlighting the struggles and experiences of characters as they navigate through icy landscapes and encounter various challenges.\n",
      "\n",
      "---------------------------------\n",
      "Topic 8 - words: ['ready', 'dog', 'work', 'animal', 'boat', 'cut', 'tree', 'wood', 'tent', 'carry']\n",
      "Label: Survival in the Wilderness \n",
      "Explanation: This topic represents the activities and preparations involved in setting up a campsite, including packing, carrying supplies, and establishing a temporary living space in nature, as depicted in the documents.\n",
      "\n",
      "---------------------------------\n",
      "Topic 9 - words: ['garden', 'cuckoo', 'door', 'feel', 'fairy', 'begin', 'dream', 'answer', 'seem', 'window']\n",
      "Label: Magical Places and Creatures \n",
      "Explanation: This topic represents a whimsical and imaginative narrative centered around gardens, magical creatures like the cuckoo, and themes of exploration and dreams. The documents reflect a blend of fantasy elements, where characters interact with enchanting settings and experience a sense of wonder.\n",
      "\n",
      "---------------------------------\n",
      "Topic 10 - words: ['rock', 'sea', 'rise', 'water', 'island', 'wave', 'boat', 'mountain', 'high', 'shore']\n",
      "Label: Island Exploration \n",
      "Explanation: This topic represents the adventure and discovery associated with exploring a tropical island, focusing on its natural features such as mountains, sea, and coral reefs, as well as the experiences of the characters as they navigate and appreciate their surroundings.\n",
      "\n",
      "---------------------------------\n",
      "Topic 11 - words: ['live', 'world', 'grow', 'year', 'learn', 'sea', 'call', 'land', 'thing', 'great']\n",
      "Label: Natural Transformation \n",
      "Explanation: This topic represents the interconnectedness of living organisms and their environments, emphasizing growth, adaptation, and the cyclical nature of life in both land and sea ecosystems.\n",
      "\n",
      "---------------------------------\n",
      "Topic 12 - words: ['boobie', 'indent', 'goggle', 'cholera', 'walnut', 'fearfulness', 'hitherto', 'bonnie', 'circus', 'diddle']\n",
      "Label: Whimsical Narratives \n",
      "Explanation: This topic encompasses a collection of whimsical and fantastical narratives that evoke a sense of curiosity and imagination, often featuring anthropomorphic characters and surreal situations, as reflected in the representative documents and the unusual topic words.\n",
      "\n",
      "---------------------------------\n",
      "Topic 13 - words: ['horse', 'road', 'side', 'house', 'window', 'run', 'stable', 'leg', 'master', 'stand']\n",
      "Label: Journeying with Horses \n",
      "Explanation: This topic represents the experiences and challenges associated with horse-drawn travel, focusing on the relationship between horses, their drivers, and the roads they traverse. It highlights the care and consideration required for horses during journeys, as well as the dynamics of travel in historical contexts.\n",
      "\n",
      "---------------------------------\n",
      "Topic 14 - words: ['day', 'mother', 'child', 'old', 'remember', 'mamma', 'dear', 'kind', 'happy', 'time']\n",
      "Label: Childhood Memories \n",
      "Explanation: This topic represents themes of nostalgia, familial bonds, and the experiences of childhood, particularly focusing on the relationships between children and their parents or guardians, as well as the emotions tied to memories of youth.\n",
      "\n",
      "---------------------------------\n",
      "Topic 15 - words: ['guy', 'glad', 'papa', 'hope', 'right', 'bad', 'wrong', 'much', 'sure', 'sorry']\n",
      "Label: Family Dynamics and Conflicts \n",
      "Explanation: This topic represents the emotional struggles and conflicts faced by characters in relationships, particularly focusing on feelings of regret, duty, and the complexities of love and familial expectations. The words and documents highlight themes of sorrow, hope, and the moral dilemmas surrounding personal choices.\n",
      "\n",
      "---------------------------------\n",
      "Topic 16 - words: ['reply', 'cottage', 'leave', 'consider', 'return', 'intendant', 'remain', 'property', 'offer', 'service']\n",
      "Label: Property Decisions \n",
      "Explanation: This topic revolves around discussions and decisions regarding property, living arrangements, and the implications of these choices on personal relationships and future plans, as reflected in the dialogues and narratives of the representative documents.\n",
      "\n",
      "---------------------------------\n",
      "Topic 17 - words: ['king', 'queen', 'royal', 'prince', 'lord', 'palace', 'son', 'court', 'guard', 'person']\n",
      "Label: Royal Family Dynamics \n",
      "Explanation: This topic represents the complexities and tensions within the royal family, particularly focusing on the interactions between the king, queen, and their court, as well as their relationship with the people during a time of political upheaval.\n"
     ]
    }
   ],
   "source": [
    "for key, value in ProdLDA_labels.items():\n",
    "    print(\"\\n---------------------------------\")\n",
    "    print(f\"Topic {key} - words: {final_model['topics'][int(key)]}\")\n",
    "    print(f\"Label: {value['primary_label']} \\nExplanation: {value['explanation']}\")"
   ]
  },
  {
   "cell_type": "code",
   "execution_count": 118,
   "id": "73d77fc4-ab72-4e41-b0f1-ea8a3600f7b0",
   "metadata": {},
   "outputs": [
    {
     "name": "stdout",
     "output_type": "stream",
     "text": [
      "0\tforce enemy attack troops order french march advance army number\tMilitary Engagements\tThis topic represents the strategic and tactical aspects of military confrontations, focusing on troop movements, attacks, and the dynamics between opposing forces, particularly in historical contexts involving French and English armies.\n",
      "1\tface arm voice heart tear eye hand lay speak bed\tLoss and Grief\tThis topic represents the emotional experiences of loss, mourning, and the deep connections between family members, particularly in the context of children and their parents. The documents reflect themes of sorrow, the fragility of life, and the longing for connection amidst tragedy.\n",
      "2\tdragon red buy engine let gold birthday tea handkerchief bun\tDragon Adventures\tThis topic revolves around whimsical stories featuring dragons, their interactions with children, and elements of fantasy such as magical items and playful adventures. The documents highlight themes of friendship, imagination, and the fantastical elements associated with dragons, including their characteristics and the children's responses to them.\n",
      "3\tsir money pay matter name explain rod bottle paper shilling\tFinancial Deception\tThis topic revolves around themes of financial obligation, dishonesty, and the moral dilemmas faced by characters in situations involving money, promises, and the consequences of deceitful actions.\n",
      "4\tboy study fellow fifth form school sixth class half match\tSchool Rivalry\tThis topic represents the competitive dynamics and interactions among different school forms, particularly focusing on the rivalry between the Fifth and Sixth Forms, as well as the experiences and perspectives of the boys involved in these competitions.\n",
      "5\tcaptain man blood deck shout strike hand spear dead roll\tPirate Battles\tThis topic represents the themes of conflict and violence among pirates, highlighting elements such as leadership, death, and combat on the high seas, as depicted in the associated documents.\n",
      "6\tpleasure own home delight visit affection happiness church spend pupil\tHome Affection\tThis topic represents the themes of personal relationships, emotional connections, and the sense of belonging associated with home and family. The documents reflect characters' feelings of happiness, affection, and the importance of home life, often intertwined with social and familial duties.\n",
      "7\tsnow mulgar nod traveller jacket hut shadow creep sing smell\tWinter Journey\tThis topic represents the themes of travel and adventure in a cold, snowy environment, highlighting the struggles and experiences of characters as they navigate through icy landscapes and encounter various challenges.\n",
      "8\tready dog work animal boat cut tree wood tent carry\tSurvival in the Wilderness\tThis topic represents the activities and preparations involved in setting up a campsite, including packing, carrying supplies, and establishing a temporary living space in nature, as depicted in the documents.\n",
      "9\tgarden cuckoo door feel fairy begin dream answer seem window\tMagical Places and Creatures\tThis topic represents a whimsical and imaginative narrative centered around gardens, magical creatures like the cuckoo, and themes of exploration and dreams. The documents reflect a blend of fantasy elements, where characters interact with enchanting settings and experience a sense of wonder.\n",
      "10\trock sea rise water island wave boat mountain high shore\tIsland Exploration\tThis topic represents the adventure and discovery associated with exploring a tropical island, focusing on its natural features such as mountains, sea, and coral reefs, as well as the experiences of the characters as they navigate and appreciate their surroundings.\n",
      "11\tlive world grow year learn sea call land thing great\tNatural Transformation\tThis topic represents the interconnectedness of living organisms and their environments, emphasizing growth, adaptation, and the cyclical nature of life in both land and sea ecosystems.\n",
      "12\tboobie indent goggle cholera walnut fearfulness hitherto bonnie circus diddle\tWhimsical Narratives\tThis topic encompasses a collection of whimsical and fantastical narratives that evoke a sense of curiosity and imagination, often featuring anthropomorphic characters and surreal situations, as reflected in the representative documents and the unusual topic words.\n",
      "13\thorse road side house window run stable leg master stand\tJourneying with Horses\tThis topic represents the experiences and challenges associated with horse-drawn travel, focusing on the relationship between horses, their drivers, and the roads they traverse. It highlights the care and consideration required for horses during journeys, as well as the dynamics of travel in historical contexts.\n",
      "14\tday mother child old remember mamma dear kind happy time\tChildhood Memories\tThis topic represents themes of nostalgia, familial bonds, and the experiences of childhood, particularly focusing on the relationships between children and their parents or guardians, as well as the emotions tied to memories of youth.\n",
      "15\tguy glad papa hope right bad wrong much sure sorry\tFamily Dynamics and Conflicts\tThis topic represents the emotional struggles and conflicts faced by characters in relationships, particularly focusing on feelings of regret, duty, and the complexities of love and familial expectations. The words and documents highlight themes of sorrow, hope, and the moral dilemmas surrounding personal choices.\n",
      "16\treply cottage leave consider return intendant remain property offer service\tProperty Decisions\tThis topic revolves around discussions and decisions regarding property, living arrangements, and the implications of these choices on personal relationships and future plans, as reflected in the dialogues and narratives of the representative documents.\n",
      "17\tking queen royal prince lord palace son court guard person\tRoyal Family Dynamics\tThis topic represents the complexities and tensions within the royal family, particularly focusing on the interactions between the king, queen, and their court, as well as their relationship with the people during a time of political upheaval.\n"
     ]
    }
   ],
   "source": [
    "for key, value in ProdLDA_labels.items():\n",
    "    print(f\"{key}\\t{\" \".join([word for word in final_model['topics'][int(key)]])}\\t{value['primary_label']}\\t{value['explanation']}\")"
   ]
  },
  {
   "cell_type": "markdown",
   "id": "XgQfNGKzLXx9",
   "metadata": {
    "id": "XgQfNGKzLXx9"
   },
   "source": [
    "### BERTopic topic labels"
   ]
  },
  {
   "cell_type": "code",
   "execution_count": 248,
   "id": "EkALX08XLWi3",
   "metadata": {
    "executionInfo": {
     "elapsed": 2858,
     "status": "ok",
     "timestamp": 1755705426058,
     "user": {
      "displayName": "NLP Student",
      "userId": "16153972373005500160"
     },
     "user_tz": -120
    },
    "id": "EkALX08XLWi3"
   },
   "outputs": [],
   "source": [
    "embedding_model = \"sentence-transformers/all-MiniLM-L6-v2\"\n",
    "topic_model = BERTopic.load(\"./bertopic\", embedding_model=embedding_model)"
   ]
  },
  {
   "cell_type": "code",
   "execution_count": 9,
   "id": "roudn4xjOO1X",
   "metadata": {
    "colab": {
     "base_uri": "https://localhost:8080/"
    },
    "executionInfo": {
     "elapsed": 351,
     "status": "ok",
     "timestamp": 1755689136719,
     "user": {
      "displayName": "NLP Student",
      "userId": "16153972373005500160"
     },
     "user_tz": -120
    },
    "id": "roudn4xjOO1X",
    "outputId": "398743b1-82b1-4b41-f92d-c716d33653b4"
   },
   "outputs": [
    {
     "data": {
      "text/plain": [
       "{}"
      ]
     },
     "execution_count": 9,
     "metadata": {},
     "output_type": "execute_result"
    }
   ],
   "source": []
  },
  {
   "cell_type": "code",
   "execution_count": 42,
   "id": "YxnPw58Cawoy",
   "metadata": {
    "executionInfo": {
     "elapsed": 522,
     "status": "ok",
     "timestamp": 1755694988411,
     "user": {
      "displayName": "NLP Student",
      "userId": "16153972373005500160"
     },
     "user_tz": -120
    },
    "id": "YxnPw58Cawoy"
   },
   "outputs": [],
   "source": [
    "with open(\"./data/BERTopic_Documents.txt\", 'r') as file:\n",
    "  text = file.read()\n",
    "  documents = text.split(\"\\n\")"
   ]
  },
  {
   "cell_type": "code",
   "execution_count": 30,
   "id": "_gwGEpXie6Un",
   "metadata": {
    "colab": {
     "base_uri": "https://localhost:8080/"
    },
    "executionInfo": {
     "elapsed": 6,
     "status": "ok",
     "timestamp": 1755693609244,
     "user": {
      "displayName": "NLP Student",
      "userId": "16153972373005500160"
     },
     "user_tz": -120
    },
    "id": "_gwGEpXie6Un",
    "outputId": "f5e339f6-f6ac-437c-f5ef-78c7fe49b379"
   },
   "outputs": [
    {
     "data": {
      "text/plain": [
       "5843"
      ]
     },
     "execution_count": 30,
     "metadata": {},
     "output_type": "execute_result"
    }
   ],
   "source": [
    "len(documents)"
   ]
  },
  {
   "cell_type": "code",
   "execution_count": 78,
   "id": "L08PfDboe_Ik",
   "metadata": {
    "executionInfo": {
     "elapsed": 12,
     "status": "ok",
     "timestamp": 1755697768711,
     "user": {
      "displayName": "NLP Student",
      "userId": "16153972373005500160"
     },
     "user_tz": -120
    },
    "id": "L08PfDboe_Ik"
   },
   "outputs": [],
   "source": [
    "# Non ci sono le probabilità :(\n",
    "#doc_topics = topic_model.get_document_info(documents)"
   ]
  },
  {
   "cell_type": "code",
   "execution_count": 100,
   "id": "dyQlq4XgvfIg",
   "metadata": {
    "executionInfo": {
     "elapsed": 3,
     "status": "ok",
     "timestamp": 1755699073731,
     "user": {
      "displayName": "NLP Student",
      "userId": "16153972373005500160"
     },
     "user_tz": -120
    },
    "id": "dyQlq4XgvfIg"
   },
   "outputs": [],
   "source": []
  },
  {
   "cell_type": "code",
   "execution_count": 249,
   "id": "ZvFe4sqYpIo3",
   "metadata": {
    "executionInfo": {
     "elapsed": 289,
     "status": "ok",
     "timestamp": 1755705453277,
     "user": {
      "displayName": "NLP Student",
      "userId": "16153972373005500160"
     },
     "user_tz": -120
    },
    "id": "ZvFe4sqYpIo3"
   },
   "outputs": [],
   "source": [
    "doc_topics = pd.read_csv(\"./bertopic/doc_topics.csv\", encoding=\"utf-8\")"
   ]
  },
  {
   "cell_type": "code",
   "execution_count": 250,
   "id": "7mdWoq0lxEAv",
   "metadata": {
    "colab": {
     "base_uri": "https://localhost:8080/"
    },
    "executionInfo": {
     "elapsed": 8,
     "status": "ok",
     "timestamp": 1755705454572,
     "user": {
      "displayName": "NLP Student",
      "userId": "16153972373005500160"
     },
     "user_tz": -120
    },
    "id": "7mdWoq0lxEAv",
    "outputId": "691ed675-8d8e-4e2a-d86a-9fe94ed4bf68"
   },
   "outputs": [
    {
     "data": {
      "text/plain": [
       "5843"
      ]
     },
     "execution_count": 250,
     "metadata": {},
     "output_type": "execute_result"
    }
   ],
   "source": [
    "len(doc_topics)"
   ]
  },
  {
   "cell_type": "code",
   "execution_count": 251,
   "id": "B4P7lSKOCAW6",
   "metadata": {
    "executionInfo": {
     "elapsed": 14,
     "status": "ok",
     "timestamp": 1755705455806,
     "user": {
      "displayName": "NLP Student",
      "userId": "16153972373005500160"
     },
     "user_tz": -120
    },
    "id": "B4P7lSKOCAW6"
   },
   "outputs": [],
   "source": [
    "doc_topics = doc_topics.assign(row_number=range(len(doc_topics)))\n",
    "doc_topics['book_id'] = df_chilit['book_id'].to_list()\n",
    "doc_topics['paragraph_text'] = df_chilit['paragraph_text'].to_list()\n",
    "doc_topics = doc_topics[['row_number','book_id','paragraph_text', 'Document', 'Topic', 'Probability']]"
   ]
  },
  {
   "cell_type": "code",
   "execution_count": 175,
   "id": "sMYjM7OMwcO3",
   "metadata": {
    "executionInfo": {
     "elapsed": 3,
     "status": "ok",
     "timestamp": 1755703241243,
     "user": {
      "displayName": "NLP Student",
      "userId": "16153972373005500160"
     },
     "user_tz": -120
    },
    "id": "sMYjM7OMwcO3"
   },
   "outputs": [],
   "source": []
  },
  {
   "cell_type": "code",
   "execution_count": 252,
   "id": "9D1jnNuqzOro",
   "metadata": {
    "executionInfo": {
     "elapsed": 20,
     "status": "ok",
     "timestamp": 1755705465915,
     "user": {
      "displayName": "NLP Student",
      "userId": "16153972373005500160"
     },
     "user_tz": -120
    },
    "id": "9D1jnNuqzOro"
   },
   "outputs": [],
   "source": [
    "doc_order = doc_topics[\"row_number\"]\n",
    "\n",
    "# Pivot\n",
    "doc_topic_matrix = (\n",
    "    doc_topics.pivot_table(\n",
    "        index=\"row_number\",\n",
    "        columns=\"Topic\",\n",
    "        values=\"Probability\",\n",
    "        fill_value=0\n",
    "    )\n",
    "    .reindex(doc_order)   # restore original order\n",
    "    .reset_index()\n",
    ")\n",
    "\n",
    "# Add columns book_id and paragraph_text\n",
    "doc_topic_matrix = doc_topic_matrix.merge(doc_topics[['row_number','book_id','paragraph_text','Document']], on=\"row_number\", how=\"inner\")\n",
    "\n",
    "# Drop topic -1\n",
    "\n",
    "\n",
    "# Rename columns\n",
    "rename_dict = {col: f\"Topic {col}\" for col in doc_topic_matrix.columns if str(col).isnumeric()}\n",
    "\n",
    "# Apply rename\n",
    "doc_topic_matrix = doc_topic_matrix.rename(columns=rename_dict)\n",
    "doc_topic_matrix = doc_topic_matrix.drop(-1, axis=1)"
   ]
  },
  {
   "cell_type": "code",
   "execution_count": 253,
   "id": "PTUaIt_b2osz",
   "metadata": {
    "colab": {
     "base_uri": "https://localhost:8080/",
     "height": 467
    },
    "executionInfo": {
     "elapsed": 264,
     "status": "ok",
     "timestamp": 1755705469331,
     "user": {
      "displayName": "NLP Student",
      "userId": "16153972373005500160"
     },
     "user_tz": -120
    },
    "id": "PTUaIt_b2osz",
    "outputId": "90f34ea8-8600-449c-d552-8cc1c061a1ec"
   },
   "outputs": [
    {
     "data": {
      "application/vnd.google.colaboratory.intrinsic+json": {
       "summary": "{\n  \"name\": \"doc_topic_matrix\",\n  \"rows\": 5843,\n  \"fields\": [\n    {\n      \"column\": \"row_number\",\n      \"properties\": {\n        \"dtype\": \"number\",\n        \"std\": 1686,\n        \"min\": 0,\n        \"max\": 5842,\n        \"num_unique_values\": 5843,\n        \"samples\": [\n          2900,\n          351,\n          994\n        ],\n        \"semantic_type\": \"\",\n        \"description\": \"\"\n      }\n    },\n    {\n      \"column\": \"Topic 0\",\n      \"properties\": {\n        \"dtype\": \"number\",\n        \"std\": 0.14914531206147166,\n        \"min\": 0.0,\n        \"max\": 1.0,\n        \"num_unique_values\": 368,\n        \"samples\": [\n          0.2487390806123742,\n          0.2574536746537824,\n          0.5289266589760738\n        ],\n        \"semantic_type\": \"\",\n        \"description\": \"\"\n      }\n    },\n    {\n      \"column\": \"Topic 1\",\n      \"properties\": {\n        \"dtype\": \"number\",\n        \"std\": 0.201689639996662,\n        \"min\": 0.0,\n        \"max\": 1.0,\n        \"num_unique_values\": 158,\n        \"samples\": [\n          0.6232553163470491,\n          0.5066200493807462,\n          0.2923565354484398\n        ],\n        \"semantic_type\": \"\",\n        \"description\": \"\"\n      }\n    },\n    {\n      \"column\": \"Topic 2\",\n      \"properties\": {\n        \"dtype\": \"number\",\n        \"std\": 0.11626597124977422,\n        \"min\": 0.0,\n        \"max\": 1.0,\n        \"num_unique_values\": 270,\n        \"samples\": [\n          0.1848595931746083,\n          0.1766112250283237,\n          0.1963057226959713\n        ],\n        \"semantic_type\": \"\",\n        \"description\": \"\"\n      }\n    },\n    {\n      \"column\": \"Topic 3\",\n      \"properties\": {\n        \"dtype\": \"number\",\n        \"std\": 0.1431433280305199,\n        \"min\": 0.0,\n        \"max\": 1.0,\n        \"num_unique_values\": 158,\n        \"samples\": [\n          0.3386397828329986,\n          0.4701139850227794,\n          0.2926109037081772\n        ],\n        \"semantic_type\": \"\",\n        \"description\": \"\"\n      }\n    },\n    {\n      \"column\": \"Topic 4\",\n      \"properties\": {\n        \"dtype\": \"number\",\n        \"std\": 0.14719027769937698,\n        \"min\": 0.0,\n        \"max\": 1.0,\n        \"num_unique_values\": 141,\n        \"samples\": [\n          0.4195523189873669,\n          0.2967471978110186,\n          0.2567267099541281\n        ],\n        \"semantic_type\": \"\",\n        \"description\": \"\"\n      }\n    },\n    {\n      \"column\": \"Topic 5\",\n      \"properties\": {\n        \"dtype\": \"number\",\n        \"std\": 0.14399780120908,\n        \"min\": 0.0,\n        \"max\": 1.0,\n        \"num_unique_values\": 131,\n        \"samples\": [\n          0.2148329319244995,\n          0.0711323981850221,\n          0.1266855336922792\n        ],\n        \"semantic_type\": \"\",\n        \"description\": \"\"\n      }\n    },\n    {\n      \"column\": \"Topic 6\",\n      \"properties\": {\n        \"dtype\": \"number\",\n        \"std\": 0.11116927058208981,\n        \"min\": 0.0,\n        \"max\": 1.0,\n        \"num_unique_values\": 95,\n        \"samples\": [\n          0.1545844930532154,\n          0.1905533235802115,\n          0.1756505935917593\n        ],\n        \"semantic_type\": \"\",\n        \"description\": \"\"\n      }\n    },\n    {\n      \"column\": \"Topic 7\",\n      \"properties\": {\n        \"dtype\": \"number\",\n        \"std\": 0.09710260579700436,\n        \"min\": 0.0,\n        \"max\": 1.0,\n        \"num_unique_values\": 59,\n        \"samples\": [\n          0.0,\n          0.2023127199149441,\n          0.4110144003768343\n        ],\n        \"semantic_type\": \"\",\n        \"description\": \"\"\n      }\n    },\n    {\n      \"column\": \"Topic 8\",\n      \"properties\": {\n        \"dtype\": \"number\",\n        \"std\": 0.09682420028418988,\n        \"min\": 0.0,\n        \"max\": 1.0,\n        \"num_unique_values\": 42,\n        \"samples\": [\n          0.1843455351221215,\n          0.1601499309822734,\n          0.1791280836351575\n        ],\n        \"semantic_type\": \"\",\n        \"description\": \"\"\n      }\n    },\n    {\n      \"column\": \"Topic 9\",\n      \"properties\": {\n        \"dtype\": \"number\",\n        \"std\": 0.1046338095824506,\n        \"min\": 0.0,\n        \"max\": 1.0,\n        \"num_unique_values\": 29,\n        \"samples\": [\n          0.8119757864035674,\n          0.2436043688510006,\n          0.2714471025272115\n        ],\n        \"semantic_type\": \"\",\n        \"description\": \"\"\n      }\n    },\n    {\n      \"column\": \"Topic 10\",\n      \"properties\": {\n        \"dtype\": \"number\",\n        \"std\": 0.09225751551867299,\n        \"min\": 0.0,\n        \"max\": 1.0,\n        \"num_unique_values\": 3,\n        \"samples\": [\n          0.0,\n          1.0,\n          0.3982350858139021\n        ],\n        \"semantic_type\": \"\",\n        \"description\": \"\"\n      }\n    },\n    {\n      \"column\": \"book_id\",\n      \"properties\": {\n        \"dtype\": \"category\",\n        \"num_unique_values\": 71,\n        \"samples\": [\n          \"forest\",\n          \"alice\",\n          \"redclyffe\"\n        ],\n        \"semantic_type\": \"\",\n        \"description\": \"\"\n      }\n    },\n    {\n      \"column\": \"paragraph_text\",\n      \"properties\": {\n        \"dtype\": \"string\",\n        \"num_unique_values\": 5843,\n        \"samples\": [\n          \"The bleating of the kids woke them the next morning earlier than usual. The weather was again fine, and the sun shining brightly, and Ready turned out Nanny and her progeny.  They had an excellent breakfast of fried fish, and then Mr Seagrave, Ready, and William went out to their work: the two first took down the tents, and spread the canvas on the ground, that it might be well dried, while William went in pursuit of the fowls, which had not been seen for a day or two.  After half-an-hour's search in the cocoa-nut grove, he heard the cock crow, and soon afterwards found them all.  He threw them some split peas, which he had brought with him.  They were hungry enough and followed him home to the house, where he left them and went to join Ready and his father. \\\"William,\\\" said Ready, \\\"I think, now that we have spread out the tents, we will, if Mr Seagrave approves, all set to at once and knock up a fowl-house; it won't be more than a day's job, and then the creatures will have a home.  There are four very thick cocoa-nut trees close to the house; we will build it under them; it will be a good job over.\\\" Mr Seagrave assented, and they set immediately to work.  There were many thin poles left, the tops of the cocoa-nut trees which had been cut down to build the house; these they nailed to the trunks of the four trees, so as to make a square, and then they ran up rafters for a pitched roof. \\\"Now, sir, this is only rough work; we will first put up a perch or two for them, and then close in the side, and thatch the roof with cocoa-nut branches; but there's Juno taking in the dinner, so we'll finish it afterwards.\\\" After their meal the work was renewed; Mr Seagrave collected the branches while William and Ready worked upon the sides and roof, and before the evening closed in, the fowl-house was complete.  William enticed the fowls down to it with some more split peas, and then walked away. \\\"Now, sir, the creatures will soon find their way in; and by and by, when I have time, I'll make a door to the entrance.\\\" \\\"And now,\\\" said William, \\\"I think we had better roll up the canvas of the tents; we have had a splendid day, and may not be so fortunate to-morrow.\\\" \\\"Very true; we will get them housed, and stow them away under the bed-places; there is plenty of room.\\\"  By the time that they had folded up the canvas, and William had brought in Nanny and the kids, the sun had set, and they went into the house.  Ready was requested to go on with his history, which he did as follows:-- \\\"I said last night that I determined to run away from school and go to sea, but I did not tell you how I managed it.  I had no chance of getting out of the school unperceived, except after the boys were all put to bed.  The room that I slept in was at the top of the house--the doors I knew were all locked; but there was a trap-door which led out on the roof, fastened by a bolt inside, and a ladder leading up to it; and I determined that I would make my escape by that way.  As soon as all the other boys were fast asleep, I arose and dressed myself very quietly, and then left the room. \\\"The moon shone bright, which was lucky for me, and I gained the trap-door without any noise.  I had some difficulty in forcing it up, as it was heavy for a boy of my age; but I contrived to do so at last, and gained the roof of the house.  I then began looking about me, to see how I was to get to the ground, and after walking to and fro several times, I decided that I could slip down by a large water-pipe; it was so far detached from the bricks, that I could get my small fingers round it.  I climbed over the parapet, and, clinging to the pipe firmly with my hands and knees, I slid down, and arrived at the bottom in safety.\\\" \",\n          \" After Alfred's return from the fort, a few days passed away without any incident: Martin had paid a visit to Malachi Bone, who had promised that he would be on the look-out and would give immediate information and assistance in case of any hostile measures on the part of the Indians. He told Martin, that in a few days he would discover what had taken place and what might be looked forward to. When Martin returned with his communication, Alfred was satisfied, and did not acquaint any body except his brother Henry with the information which he had received from Captain Sinclair. The monotony of their life was, however, broken in upon by the arrival of a corporal from the fort, who was the bearer of the first dispatches which they had received since their arrival at the settlement. Letters, yes letters, not only from Quebec but from England, were announced. The whole house was in confusion, all crowding round Mr. Campbell while he unsealed the large packet. First a bundle of English newspapers from the Governor of Quebec--these were laid aside; a letter from Mr. Campbell's agent at Quebec--this was on business and could wait his leisure; then the letters from England--two long, well-filled double letters from Miss Paterson to Mary and Emma; another from Mr. Campbell's agent in England, and a large one on foolscap with \\\"On His Majesty's Service,\\\" directed to Mr. Alfred Campbell. Each party seized upon their letters, and hastened on one side with them. Mrs. Campbell being the only one who had no correspondent, anxiously watched the countenance of Alfred, who, after a hasty glance, cried out, \\\"I am confirmed to my rank, my dear mother; I am a lieutenant in his Majesty's service--huzza! Here's a letter inclosed from Captain Lumley; I know his handwriting.\\\" Alfred received the congratulations of the whole party, handed the official letter to his mother, and then commenced the perusal of the one from Captain Lumley. After a short silence, during which they were all occupied with their correspondence, Mr. Campbell said, \\\"I also have good news to communicate to you; Mr. H. writes to me to say, that Mr. Douglas Campbell, on finding the green-houses and hot-houses so well stocked, considered that he was bound to pay for the plants; that they have been valued at seven hundred pounds, and that he has paid that money into my agent's hands. This is extremely liberal of Mr. Douglas Campbell, and I certainly did not expect, as I found plants there on my taking possession, that I was entitled to any remuneration for what I left. However, I am too poor to refuse his offer from any feelings of delicacy, and shall therefore write and thank him for his generous behavior.\\\" Alfred had read the letter from Captain Lumley, which made him very thoughtful. The fact was, his promotion and the observations in Captain Lumley's letter had brought back all his former regret at having quitted the service, and he was very melancholy in consequence; but as his cousins read their letters aloud, he gradually recovered his spirits. At last, all the letters were read, and then the newspapers were distributed. No more work was done that day, and in the evening they all sat round the kitchen fire and talked over the intelligence they had received until long after their usual time of retiring to bed. \\\"I have been thinking, my dear Emily,\\\" said Mr. Campbell, the next morning before they quitted their sleeping-room, \\\"what a very seasonable supply of money this will be. My funds, as you have seen by the account of my Quebec agent, were nearly exhausted, and we have many things yet to procure. We shall require horses next year, and we must increase our stock in every way; indeed, if we could have another man or two, it would be very advantageous, as the sooner we clear the ground, the sooner we shall be independent.\\\" \",\n          \"     Pitch thy behaviour low, thy projects high,        So shalt thou humble and magnanimous be;      Sink not in spirit; who aimeth at the sky        Shoots higher much than he that means a tree.          A grain of glory mixed with humbleness,          Cures both a fever and lethargicness.                                              HERBERT.  \\u201cNorman, do you feel up to a long day\\u2019s work?\\u201d said Dr. May, on the following morning. \\u201cI have to set off after breakfast to see old Mrs. Gould, and to be at Abbotstoke Grange by twelve; then I thought of going to Fordholm, and getting Miss Cleveland to give us some luncheon--there are some poor people on the way to look at; and that girl on Far-view Hill; and there\\u2019s another place to call in at coming home. You\\u2019ll have a good deal of sitting in the carriage, holding Whitefoot, so if you think you shall be cold or tired, don\\u2019t scruple to say so, and I\\u2019ll take Adams to drive me.\\u201d \\u201cNo, thank you,\\u201d said Norman briskly. \\u201cThis frost is famous.\\u201d \\u201cIt will turn to rain, I expect--it is too white,\\u201d said the doctor, looking out at the window. \\u201cHow will you get to Cocksmoor, good people?\\u201d \\u201cEthel won\\u2019t believe it rains unless it is very bad,\\u201d said Richard. Norman set out with his father, and prosperously performed the expedition, arriving at Abbotstoke Grange at the appointed hour. \\u201cHa!\\u201d said the doctor, as the iron gates of ornamental scrollwork were swung back, \\u201cthere\\u2019s a considerable change in this place since I was here last. Well kept up indeed! Not a dead leaf left under the old walnuts, and the grass looks as smooth as if they had a dozen gardeners rolling it every day.\\u201d \\u201cAnd the drive,\\u201d said Norman, \\u201cmore like a garden walk than a road! But oh! what a splendid cedar!\\u201d \\u201cIsn\\u2019t it! I remember that as long as I remember anything. All this fine rolling of turf, and trimming up of the place, does not make much difference to you, old fellow, does it? You don\\u2019t look altered since I saw you last, when old Jervis was letting the place go to rack and ruin. So they have a new entrance--very handsome conservatory--flowers--the banker does things in style. There,\\u201d as Norman helped him off with his plaid, \\u201cwrap yourself up well, don\\u2019t get cold. The sun is gone in, and I should not wonder if the rain were coming after all. I\\u2019ll not be longer than I can help.\\u201d Dr. May disappeared from his son\\u2019s sight through the conservatory, where, through the plate-glass, the exotics looked so fresh and perfumy, that Norman almost fancied that the scent reached him. \\u201cHow much poor Margaret would enjoy one of those camellias,\\u201d thought he, \\u201cand these people have bushels of them for mere show. If I were papa, I should be tempted to be like Beauty\\u2019s father, and carry off one. How she would admire it!\\u201d Norman had plenty of time to meditate on the camellias, and then to turn and speculate on the age of the cedar, whether it could have been planted by the monks of Stoneborough Abbey, to whom the Grange had belonged, brought from Lebanon by a pilgrim, perhaps; and then he tried to guess at the longevity of cedars, and thought of asking Margaret, the botanist of the family. Then he yawned, moved the horse a little about, opined that Mr. Rivers must be very prosy, or have some abstruse complaint, considered the sky, and augured rain, buttoned another button of his rough coat, and thought of Miss Cleveland\\u2019s dinner. Then he thought there was a very sharp wind, and drove about till he found a sheltered place on the lee side of the great cedar, looked up at it, and thought it would be a fine subject for verses, if Mr. Wilmot knew of it, and then proceeded to consider what he should make of them. \"\n        ],\n        \"semantic_type\": \"\",\n        \"description\": \"\"\n      }\n    },\n    {\n      \"column\": \"Document\",\n      \"properties\": {\n        \"dtype\": \"string\",\n        \"num_unique_values\": 5840,\n        \"samples\": [\n          \"uttermost farthing mouth twitch mustache send case wait evening appear escort want undivided attention few minute year understand pay tremendous compliment brown one thanks wait execute rhyme reason cover invite send note ask statement true convinced occasion adhere truth drink virtuous expression fear understand flaw character perpetrate howling injustice reputation injure disgrace keen regard honor lick apiece portion word replace cane flung write charge waste paper basket cover situation variation normal useful late life abnormal remind pile paper shelf borrow harm read open smell tobacco prep evening usual night amazing night thank sir swear pray night cut flick collar low shelf bag next gating impot beastly question settle nature interview improve ruffle plume note one blue emotion nose sweat compensate imperial favore astonished hold material fact guilty god offend malignant disposition untrustworthy character pernicious revolutionary influence abandon devil wilfulness pride intolerable conceit care careful careful hurt inflict wait suffocate week royal selve wait match own part wait pad pavilion stand ready score window bench said ask private private bench wish afternoon yawn lodge chase hem length breadth cover match rot collare poacher \",\n          \"strike lady usual silk rustle drive pause horse raise humoring nonsense groom stand draw fix rein tight intolerable jerk bit idea moment rein terret order shorten opportunity rear nose hit hat knock groom throw leg fly match plunging rear kick desperate manner kick carriage pole fall severe blow near quarter further mischief flat prevent struggle same unbuckle black horse winch unscrew carriage pole cut trace unhitch footmen winch bring knife groom free carriage lead box excite happen kick rear sure stand angry sore leg strain terret saddle power miserable inclined kick first person lead groom deal knock bruise order moment confound check rein mischief master vex woman husband rule course servant wash duchess garden party help place hock kick swell painful order spong hot lotion learn happen blame mistress reply future prefer receive order lordship same stand horse judge carriage well bruise young son like sure hunter oblige carriage fresh partner tight rein ask bear bear shorten life shorten stick \",\n          \"stormy autumn master long journey business dog cart master like dog cart light high wheel deal rain wind high blow dry road shower toll bar low wooden bridge river bank high bridge rise level middle river woodwork plank substantial rail side person mind gate river rise fear night many meadow low part road knee bottom master drive matter town course bait master business engage long start home afternoon wind high master storm skirt wood branch sway twig rush sound terrible wish wood master sir awkward branch word mouth groan crack split sound tear crash oak tear root fall road frighten believe tremble course bring jump moment near touch master sir drive crossway mile wooden bridge late horse fresh crossroad bridge dark middle happen flood master pace moment foot touch first part bridge sure wrong dead master touch whip stir sharp cut jump wrong sir spring dog cart lead beauty matter course bridge safe toll gate side toss torch mad cry matter shout master bridge middle part river \"\n        ],\n        \"semantic_type\": \"\",\n        \"description\": \"\"\n      }\n    }\n  ]\n}",
       "type": "dataframe",
       "variable_name": "doc_topic_matrix"
      },
      "text/html": [
       "\n",
       "  <div id=\"df-d1e717a3-7fde-48dc-89db-8b64fcd0965f\" class=\"colab-df-container\">\n",
       "    <div>\n",
       "<style scoped>\n",
       "    .dataframe tbody tr th:only-of-type {\n",
       "        vertical-align: middle;\n",
       "    }\n",
       "\n",
       "    .dataframe tbody tr th {\n",
       "        vertical-align: top;\n",
       "    }\n",
       "\n",
       "    .dataframe thead th {\n",
       "        text-align: right;\n",
       "    }\n",
       "</style>\n",
       "<table border=\"1\" class=\"dataframe\">\n",
       "  <thead>\n",
       "    <tr style=\"text-align: right;\">\n",
       "      <th></th>\n",
       "      <th>row_number</th>\n",
       "      <th>Topic 0</th>\n",
       "      <th>Topic 1</th>\n",
       "      <th>Topic 2</th>\n",
       "      <th>Topic 3</th>\n",
       "      <th>Topic 4</th>\n",
       "      <th>Topic 5</th>\n",
       "      <th>Topic 6</th>\n",
       "      <th>Topic 7</th>\n",
       "      <th>Topic 8</th>\n",
       "      <th>Topic 9</th>\n",
       "      <th>Topic 10</th>\n",
       "      <th>book_id</th>\n",
       "      <th>paragraph_text</th>\n",
       "      <th>Document</th>\n",
       "    </tr>\n",
       "  </thead>\n",
       "  <tbody>\n",
       "    <tr>\n",
       "      <th>0</th>\n",
       "      <td>0</td>\n",
       "      <td>0.0</td>\n",
       "      <td>0.0</td>\n",
       "      <td>0.0</td>\n",
       "      <td>0.0</td>\n",
       "      <td>0.0</td>\n",
       "      <td>0.0</td>\n",
       "      <td>0.0</td>\n",
       "      <td>0.0</td>\n",
       "      <td>0.0</td>\n",
       "      <td>0.0</td>\n",
       "      <td>0.0</td>\n",
       "      <td>alice</td>\n",
       "      <td>CHAPTER I. Down the Rabbit-Hole Alice was begi...</td>\n",
       "      <td>hole tired sister bank peep book sister read p...</td>\n",
       "    </tr>\n",
       "    <tr>\n",
       "      <th>1</th>\n",
       "      <td>1</td>\n",
       "      <td>0.0</td>\n",
       "      <td>0.0</td>\n",
       "      <td>0.0</td>\n",
       "      <td>0.0</td>\n",
       "      <td>0.0</td>\n",
       "      <td>0.0</td>\n",
       "      <td>0.0</td>\n",
       "      <td>0.0</td>\n",
       "      <td>0.0</td>\n",
       "      <td>0.0</td>\n",
       "      <td>0.0</td>\n",
       "      <td>alice</td>\n",
       "      <td>Alice was not a bit hurt, and she jumped up on...</td>\n",
       "      <td>bit hurt jump foot moment dark long passage hu...</td>\n",
       "    </tr>\n",
       "    <tr>\n",
       "      <th>2</th>\n",
       "      <td>2</td>\n",
       "      <td>0.0</td>\n",
       "      <td>0.0</td>\n",
       "      <td>0.0</td>\n",
       "      <td>0.0</td>\n",
       "      <td>0.0</td>\n",
       "      <td>0.0</td>\n",
       "      <td>0.0</td>\n",
       "      <td>0.0</td>\n",
       "      <td>0.0</td>\n",
       "      <td>0.0</td>\n",
       "      <td>0.0</td>\n",
       "      <td>alice</td>\n",
       "      <td>‘Curiouser and curiouser!’ cried Alice (she wa...</td>\n",
       "      <td>curiouser curiouser cry surprise moment forget...</td>\n",
       "    </tr>\n",
       "    <tr>\n",
       "      <th>3</th>\n",
       "      <td>3</td>\n",
       "      <td>0.0</td>\n",
       "      <td>0.0</td>\n",
       "      <td>0.0</td>\n",
       "      <td>0.0</td>\n",
       "      <td>0.0</td>\n",
       "      <td>0.0</td>\n",
       "      <td>0.0</td>\n",
       "      <td>0.0</td>\n",
       "      <td>0.0</td>\n",
       "      <td>0.0</td>\n",
       "      <td>0.0</td>\n",
       "      <td>alice</td>\n",
       "      <td>‘How doth the little crocodile       Impr...</td>\n",
       "      <td>crocodile improve shine tail pour golden scale...</td>\n",
       "    </tr>\n",
       "    <tr>\n",
       "      <th>4</th>\n",
       "      <td>4</td>\n",
       "      <td>0.0</td>\n",
       "      <td>1.0</td>\n",
       "      <td>0.0</td>\n",
       "      <td>0.0</td>\n",
       "      <td>0.0</td>\n",
       "      <td>0.0</td>\n",
       "      <td>0.0</td>\n",
       "      <td>0.0</td>\n",
       "      <td>0.0</td>\n",
       "      <td>0.0</td>\n",
       "      <td>0.0</td>\n",
       "      <td>alice</td>\n",
       "      <td>CHAPTER III. A Caucus-Race and a Long Tale The...</td>\n",
       "      <td>race long tale queer party assemble bank bird ...</td>\n",
       "    </tr>\n",
       "  </tbody>\n",
       "</table>\n",
       "</div>\n",
       "    <div class=\"colab-df-buttons\">\n",
       "\n",
       "  <div class=\"colab-df-container\">\n",
       "    <button class=\"colab-df-convert\" onclick=\"convertToInteractive('df-d1e717a3-7fde-48dc-89db-8b64fcd0965f')\"\n",
       "            title=\"Convert this dataframe to an interactive table.\"\n",
       "            style=\"display:none;\">\n",
       "\n",
       "  <svg xmlns=\"http://www.w3.org/2000/svg\" height=\"24px\" viewBox=\"0 -960 960 960\">\n",
       "    <path d=\"M120-120v-720h720v720H120Zm60-500h600v-160H180v160Zm220 220h160v-160H400v160Zm0 220h160v-160H400v160ZM180-400h160v-160H180v160Zm440 0h160v-160H620v160ZM180-180h160v-160H180v160Zm440 0h160v-160H620v160Z\"/>\n",
       "  </svg>\n",
       "    </button>\n",
       "\n",
       "  <style>\n",
       "    .colab-df-container {\n",
       "      display:flex;\n",
       "      gap: 12px;\n",
       "    }\n",
       "\n",
       "    .colab-df-convert {\n",
       "      background-color: #E8F0FE;\n",
       "      border: none;\n",
       "      border-radius: 50%;\n",
       "      cursor: pointer;\n",
       "      display: none;\n",
       "      fill: #1967D2;\n",
       "      height: 32px;\n",
       "      padding: 0 0 0 0;\n",
       "      width: 32px;\n",
       "    }\n",
       "\n",
       "    .colab-df-convert:hover {\n",
       "      background-color: #E2EBFA;\n",
       "      box-shadow: 0px 1px 2px rgba(60, 64, 67, 0.3), 0px 1px 3px 1px rgba(60, 64, 67, 0.15);\n",
       "      fill: #174EA6;\n",
       "    }\n",
       "\n",
       "    .colab-df-buttons div {\n",
       "      margin-bottom: 4px;\n",
       "    }\n",
       "\n",
       "    [theme=dark] .colab-df-convert {\n",
       "      background-color: #3B4455;\n",
       "      fill: #D2E3FC;\n",
       "    }\n",
       "\n",
       "    [theme=dark] .colab-df-convert:hover {\n",
       "      background-color: #434B5C;\n",
       "      box-shadow: 0px 1px 3px 1px rgba(0, 0, 0, 0.15);\n",
       "      filter: drop-shadow(0px 1px 2px rgba(0, 0, 0, 0.3));\n",
       "      fill: #FFFFFF;\n",
       "    }\n",
       "  </style>\n",
       "\n",
       "    <script>\n",
       "      const buttonEl =\n",
       "        document.querySelector('#df-d1e717a3-7fde-48dc-89db-8b64fcd0965f button.colab-df-convert');\n",
       "      buttonEl.style.display =\n",
       "        google.colab.kernel.accessAllowed ? 'block' : 'none';\n",
       "\n",
       "      async function convertToInteractive(key) {\n",
       "        const element = document.querySelector('#df-d1e717a3-7fde-48dc-89db-8b64fcd0965f');\n",
       "        const dataTable =\n",
       "          await google.colab.kernel.invokeFunction('convertToInteractive',\n",
       "                                                    [key], {});\n",
       "        if (!dataTable) return;\n",
       "\n",
       "        const docLinkHtml = 'Like what you see? Visit the ' +\n",
       "          '<a target=\"_blank\" href=https://colab.research.google.com/notebooks/data_table.ipynb>data table notebook</a>'\n",
       "          + ' to learn more about interactive tables.';\n",
       "        element.innerHTML = '';\n",
       "        dataTable['output_type'] = 'display_data';\n",
       "        await google.colab.output.renderOutput(dataTable, element);\n",
       "        const docLink = document.createElement('div');\n",
       "        docLink.innerHTML = docLinkHtml;\n",
       "        element.appendChild(docLink);\n",
       "      }\n",
       "    </script>\n",
       "  </div>\n",
       "\n",
       "\n",
       "    <div id=\"df-b82275df-8d63-4f43-8c08-21f7a9190aac\">\n",
       "      <button class=\"colab-df-quickchart\" onclick=\"quickchart('df-b82275df-8d63-4f43-8c08-21f7a9190aac')\"\n",
       "                title=\"Suggest charts\"\n",
       "                style=\"display:none;\">\n",
       "\n",
       "<svg xmlns=\"http://www.w3.org/2000/svg\" height=\"24px\"viewBox=\"0 0 24 24\"\n",
       "     width=\"24px\">\n",
       "    <g>\n",
       "        <path d=\"M19 3H5c-1.1 0-2 .9-2 2v14c0 1.1.9 2 2 2h14c1.1 0 2-.9 2-2V5c0-1.1-.9-2-2-2zM9 17H7v-7h2v7zm4 0h-2V7h2v10zm4 0h-2v-4h2v4z\"/>\n",
       "    </g>\n",
       "</svg>\n",
       "      </button>\n",
       "\n",
       "<style>\n",
       "  .colab-df-quickchart {\n",
       "      --bg-color: #E8F0FE;\n",
       "      --fill-color: #1967D2;\n",
       "      --hover-bg-color: #E2EBFA;\n",
       "      --hover-fill-color: #174EA6;\n",
       "      --disabled-fill-color: #AAA;\n",
       "      --disabled-bg-color: #DDD;\n",
       "  }\n",
       "\n",
       "  [theme=dark] .colab-df-quickchart {\n",
       "      --bg-color: #3B4455;\n",
       "      --fill-color: #D2E3FC;\n",
       "      --hover-bg-color: #434B5C;\n",
       "      --hover-fill-color: #FFFFFF;\n",
       "      --disabled-bg-color: #3B4455;\n",
       "      --disabled-fill-color: #666;\n",
       "  }\n",
       "\n",
       "  .colab-df-quickchart {\n",
       "    background-color: var(--bg-color);\n",
       "    border: none;\n",
       "    border-radius: 50%;\n",
       "    cursor: pointer;\n",
       "    display: none;\n",
       "    fill: var(--fill-color);\n",
       "    height: 32px;\n",
       "    padding: 0;\n",
       "    width: 32px;\n",
       "  }\n",
       "\n",
       "  .colab-df-quickchart:hover {\n",
       "    background-color: var(--hover-bg-color);\n",
       "    box-shadow: 0 1px 2px rgba(60, 64, 67, 0.3), 0 1px 3px 1px rgba(60, 64, 67, 0.15);\n",
       "    fill: var(--button-hover-fill-color);\n",
       "  }\n",
       "\n",
       "  .colab-df-quickchart-complete:disabled,\n",
       "  .colab-df-quickchart-complete:disabled:hover {\n",
       "    background-color: var(--disabled-bg-color);\n",
       "    fill: var(--disabled-fill-color);\n",
       "    box-shadow: none;\n",
       "  }\n",
       "\n",
       "  .colab-df-spinner {\n",
       "    border: 2px solid var(--fill-color);\n",
       "    border-color: transparent;\n",
       "    border-bottom-color: var(--fill-color);\n",
       "    animation:\n",
       "      spin 1s steps(1) infinite;\n",
       "  }\n",
       "\n",
       "  @keyframes spin {\n",
       "    0% {\n",
       "      border-color: transparent;\n",
       "      border-bottom-color: var(--fill-color);\n",
       "      border-left-color: var(--fill-color);\n",
       "    }\n",
       "    20% {\n",
       "      border-color: transparent;\n",
       "      border-left-color: var(--fill-color);\n",
       "      border-top-color: var(--fill-color);\n",
       "    }\n",
       "    30% {\n",
       "      border-color: transparent;\n",
       "      border-left-color: var(--fill-color);\n",
       "      border-top-color: var(--fill-color);\n",
       "      border-right-color: var(--fill-color);\n",
       "    }\n",
       "    40% {\n",
       "      border-color: transparent;\n",
       "      border-right-color: var(--fill-color);\n",
       "      border-top-color: var(--fill-color);\n",
       "    }\n",
       "    60% {\n",
       "      border-color: transparent;\n",
       "      border-right-color: var(--fill-color);\n",
       "    }\n",
       "    80% {\n",
       "      border-color: transparent;\n",
       "      border-right-color: var(--fill-color);\n",
       "      border-bottom-color: var(--fill-color);\n",
       "    }\n",
       "    90% {\n",
       "      border-color: transparent;\n",
       "      border-bottom-color: var(--fill-color);\n",
       "    }\n",
       "  }\n",
       "</style>\n",
       "\n",
       "      <script>\n",
       "        async function quickchart(key) {\n",
       "          const quickchartButtonEl =\n",
       "            document.querySelector('#' + key + ' button');\n",
       "          quickchartButtonEl.disabled = true;  // To prevent multiple clicks.\n",
       "          quickchartButtonEl.classList.add('colab-df-spinner');\n",
       "          try {\n",
       "            const charts = await google.colab.kernel.invokeFunction(\n",
       "                'suggestCharts', [key], {});\n",
       "          } catch (error) {\n",
       "            console.error('Error during call to suggestCharts:', error);\n",
       "          }\n",
       "          quickchartButtonEl.classList.remove('colab-df-spinner');\n",
       "          quickchartButtonEl.classList.add('colab-df-quickchart-complete');\n",
       "        }\n",
       "        (() => {\n",
       "          let quickchartButtonEl =\n",
       "            document.querySelector('#df-b82275df-8d63-4f43-8c08-21f7a9190aac button');\n",
       "          quickchartButtonEl.style.display =\n",
       "            google.colab.kernel.accessAllowed ? 'block' : 'none';\n",
       "        })();\n",
       "      </script>\n",
       "    </div>\n",
       "\n",
       "    </div>\n",
       "  </div>\n"
      ],
      "text/plain": [
       "   row_number  Topic 0  Topic 1  Topic 2  Topic 3  Topic 4  Topic 5  Topic 6  \\\n",
       "0           0      0.0      0.0      0.0      0.0      0.0      0.0      0.0   \n",
       "1           1      0.0      0.0      0.0      0.0      0.0      0.0      0.0   \n",
       "2           2      0.0      0.0      0.0      0.0      0.0      0.0      0.0   \n",
       "3           3      0.0      0.0      0.0      0.0      0.0      0.0      0.0   \n",
       "4           4      0.0      1.0      0.0      0.0      0.0      0.0      0.0   \n",
       "\n",
       "   Topic 7  Topic 8  Topic 9  Topic 10 book_id  \\\n",
       "0      0.0      0.0      0.0       0.0   alice   \n",
       "1      0.0      0.0      0.0       0.0   alice   \n",
       "2      0.0      0.0      0.0       0.0   alice   \n",
       "3      0.0      0.0      0.0       0.0   alice   \n",
       "4      0.0      0.0      0.0       0.0   alice   \n",
       "\n",
       "                                      paragraph_text  \\\n",
       "0  CHAPTER I. Down the Rabbit-Hole Alice was begi...   \n",
       "1  Alice was not a bit hurt, and she jumped up on...   \n",
       "2  ‘Curiouser and curiouser!’ cried Alice (she wa...   \n",
       "3       ‘How doth the little crocodile       Impr...   \n",
       "4  CHAPTER III. A Caucus-Race and a Long Tale The...   \n",
       "\n",
       "                                            Document  \n",
       "0  hole tired sister bank peep book sister read p...  \n",
       "1  bit hurt jump foot moment dark long passage hu...  \n",
       "2  curiouser curiouser cry surprise moment forget...  \n",
       "3  crocodile improve shine tail pour golden scale...  \n",
       "4  race long tale queer party assemble bank bird ...  "
      ]
     },
     "execution_count": 253,
     "metadata": {},
     "output_type": "execute_result"
    }
   ],
   "source": [
    "doc_topic_matrix.head()"
   ]
  },
  {
   "cell_type": "code",
   "execution_count": 254,
   "id": "RwpMTuAy4iGN",
   "metadata": {
    "executionInfo": {
     "elapsed": 73,
     "status": "ok",
     "timestamp": 1755705473879,
     "user": {
      "displayName": "NLP Student",
      "userId": "16153972373005500160"
     },
     "user_tz": -120
    },
    "id": "RwpMTuAy4iGN"
   },
   "outputs": [],
   "source": [
    "topic_info = topic_model.get_topic_info()"
   ]
  },
  {
   "cell_type": "code",
   "execution_count": 255,
   "id": "KH_BrqFII9kK",
   "metadata": {
    "executionInfo": {
     "elapsed": 3,
     "status": "ok",
     "timestamp": 1755705474229,
     "user": {
      "displayName": "NLP Student",
      "userId": "16153972373005500160"
     },
     "user_tz": -120
    },
    "id": "KH_BrqFII9kK"
   },
   "outputs": [],
   "source": [
    "topic_info = topic_info[topic_info['Topic'] != -1]"
   ]
  },
  {
   "cell_type": "code",
   "execution_count": 256,
   "id": "TPo17vPcgSI9",
   "metadata": {
    "executionInfo": {
     "elapsed": 33,
     "status": "ok",
     "timestamp": 1755705475653,
     "user": {
      "displayName": "NLP Student",
      "userId": "16153972373005500160"
     },
     "user_tz": -120
    },
    "id": "TPo17vPcgSI9"
   },
   "outputs": [],
   "source": [
    "topic_words = {}\n",
    "top_docs = {}\n",
    "\n",
    "for index, topic in topic_info.iterrows():\n",
    "    topic_id = topic['Topic']\n",
    "    topic_words[topic_id] = topic['Representation']\n",
    "    top_docs[topic_id] = []\n",
    "    for _, row in doc_topic_matrix.nlargest(5, f'Topic {topic_id}').iterrows():\n",
    "        top_docs[topic_id].append(row['paragraph_text'])"
   ]
  },
  {
   "cell_type": "code",
   "execution_count": 257,
   "id": "QvgHGsqdKzb-",
   "metadata": {
    "executionInfo": {
     "elapsed": 21302,
     "status": "ok",
     "timestamp": 1755705508332,
     "user": {
      "displayName": "NLP Student",
      "userId": "16153972373005500160"
     },
     "user_tz": -120
    },
    "id": "QvgHGsqdKzb-"
   },
   "outputs": [],
   "source": [
    "BERTopic_labels = label_topics(topic_words, top_docs)"
   ]
  },
  {
   "cell_type": "code",
   "execution_count": 260,
   "id": "QDFcEeL1M62y",
   "metadata": {
    "executionInfo": {
     "elapsed": 13,
     "status": "ok",
     "timestamp": 1755705707948,
     "user": {
      "displayName": "NLP Student",
      "userId": "16153972373005500160"
     },
     "user_tz": -120
    },
    "id": "QDFcEeL1M62y"
   },
   "outputs": [],
   "source": [
    "with open(\"./bertopic/BERTopic_Topic_Labels.json\", 'w') as outfile:\n",
    "  json.dump(BERTopic_labels, outfile)\n"
   ]
  },
  {
   "cell_type": "code",
   "execution_count": null,
   "id": "fOtTErsRNCBr",
   "metadata": {
    "id": "fOtTErsRNCBr"
   },
   "outputs": [],
   "source": []
  }
 ],
 "metadata": {
  "colab": {
   "provenance": []
  },
  "kernelspec": {
   "display_name": "Python 3 (ipykernel)",
   "language": "python",
   "name": "python3"
  },
  "language_info": {
   "codemirror_mode": {
    "name": "ipython",
    "version": 3
   },
   "file_extension": ".py",
   "mimetype": "text/x-python",
   "name": "python",
   "nbconvert_exporter": "python",
   "pygments_lexer": "ipython3",
   "version": "3.12.3"
  }
 },
 "nbformat": 4,
 "nbformat_minor": 5
}
